{
  "nbformat": 4,
  "nbformat_minor": 0,
  "metadata": {
    "colab": {
      "name": "cartpole_dqn.ipynb",
      "provenance": [],
      "collapsed_sections": [],
      "authorship_tag": "ABX9TyNraE832nibaHDX/yTz1Bfp",
      "include_colab_link": true
    },
    "kernelspec": {
      "name": "python3",
      "display_name": "Python 3"
    }
  },
  "cells": [
    {
      "cell_type": "markdown",
      "metadata": {
        "id": "view-in-github",
        "colab_type": "text"
      },
      "source": [
        "<a href=\"https://colab.research.google.com/github/himavamsianumula/Cart-Pole/blob/master/cartpole_dqn.ipynb\" target=\"_parent\"><img src=\"https://colab.research.google.com/assets/colab-badge.svg\" alt=\"Open In Colab\"/></a>"
      ]
    },
    {
      "cell_type": "code",
      "metadata": {
        "id": "GCi2T16yzjew",
        "colab_type": "code",
        "colab": {
          "base_uri": "https://localhost:8080/",
          "height": 34
        },
        "outputId": "9d10e2d9-d554-4a74-80cc-f77cc508fa59"
      },
      "source": [
        "!pip install gym pyvirtualdisplay > /dev/null 2>&1\n",
        "!apt-get install -y xvfb python-opengl ffmpeg > /dev/null 2>&1\n",
        "\n",
        "!apt-get update > /dev/null 2>&1\n",
        "!apt-get install cmake > /dev/null 2>&1\n",
        "!pip install --upgrade setuptools 2>&1\n",
        "!pip install ez_setup > /dev/null 2>&1\n",
        "!pip install gym[atari] > /dev/null 2>&1"
      ],
      "execution_count": 1,
      "outputs": [
        {
          "output_type": "stream",
          "text": [
            "Requirement already up-to-date: setuptools in /usr/local/lib/python3.6/dist-packages (49.6.0)\n"
          ],
          "name": "stdout"
        }
      ]
    },
    {
      "cell_type": "markdown",
      "metadata": {
        "id": "tyjuuQcMuppX",
        "colab_type": "text"
      },
      "source": [
        "Libraries"
      ]
    },
    {
      "cell_type": "code",
      "metadata": {
        "id": "Ow2wG2LWuk1x",
        "colab_type": "code",
        "colab": {}
      },
      "source": [
        "import cv2\n",
        "import gym\n",
        "from gym import logger as gymlogger\n",
        "from gym.wrappers import Monitor\n",
        "gymlogger.set_level(40) #error only\n",
        "import tensorflow as tf\n",
        "import numpy as np\n",
        "import random\n",
        "import matplotlib\n",
        "import matplotlib.pyplot as plt\n",
        "%matplotlib inline\n",
        "import math\n",
        "import glob\n",
        "import io\n",
        "import tensorflow as tf\n",
        "from tensorflow.keras.models import Sequential\n",
        "from tensorflow.keras.layers import Conv2D, MaxPooling2D, Activation, Dropout, Flatten, Dense, BatchNormalization\n",
        "from collections import namedtuple\n",
        "import base64\n",
        "from IPython.display import HTML\n",
        "from IPython import display as ipythondisplay"
      ],
      "execution_count": 19,
      "outputs": []
    },
    {
      "cell_type": "code",
      "metadata": {
        "id": "ofkA_Cltz5GV",
        "colab_type": "code",
        "colab": {
          "base_uri": "https://localhost:8080/",
          "height": 34
        },
        "outputId": "f67a84aa-1b42-416c-ed0c-43bfedfe3e5a"
      },
      "source": [
        "from pyvirtualdisplay import Display\n",
        "display = Display(visible=0, size=(1400, 900))\n",
        "display.start()"
      ],
      "execution_count": 3,
      "outputs": [
        {
          "output_type": "execute_result",
          "data": {
            "text/plain": [
              "<pyvirtualdisplay.display.Display at 0x7fd7533f8ef0>"
            ]
          },
          "metadata": {
            "tags": []
          },
          "execution_count": 3
        }
      ]
    },
    {
      "cell_type": "code",
      "metadata": {
        "id": "523MRsRNz-Lp",
        "colab_type": "code",
        "colab": {}
      },
      "source": [
        "\"\"\"\n",
        "Utility functions to enable video recording of gym environment and displaying it\n",
        "To enable video, just do \"env = wrap_env(env)\"\"\n",
        "\"\"\"\n",
        "\n",
        "def show_video():\n",
        "  mp4list = glob.glob('video/*.mp4')\n",
        "  if len(mp4list) > 0:\n",
        "    mp4 = mp4list[0]\n",
        "    video = io.open(mp4, 'r+b').read()\n",
        "    encoded = base64.b64encode(video)\n",
        "    ipythondisplay.display(HTML(data='''<video alt=\"test\" autoplay \n",
        "                loop controls style=\"height: 400px;\">\n",
        "                <source src=\"data:video/mp4;base64,{0}\" type=\"video/mp4\" />\n",
        "             </video>'''.format(encoded.decode('ascii'))))\n",
        "  else: \n",
        "    print(\"Could not find video\")\n",
        "    \n",
        "\n",
        "def wrap_env(env):\n",
        "  env = Monitor(env, './video', force=True)\n",
        "  return env"
      ],
      "execution_count": 4,
      "outputs": []
    },
    {
      "cell_type": "code",
      "metadata": {
        "id": "GARYPOVV0DLE",
        "colab_type": "code",
        "colab": {
          "base_uri": "https://localhost:8080/",
          "height": 421
        },
        "outputId": "4b56baff-2736-478a-b128-4b490510d03c"
      },
      "source": [
        "env = wrap_env(gym.make(\"CartPole-v0\"))\n",
        "observation = env.reset()\n",
        "\n",
        "while True:\n",
        "    env.render()\n",
        "    action = env.action_space.sample() \n",
        "    observation, reward, done, info = env.step(action)\n",
        "    if done: \n",
        "      break;\n",
        "          \n",
        "env.close()\n",
        "show_video()"
      ],
      "execution_count": 5,
      "outputs": [
        {
          "output_type": "display_data",
          "data": {
            "text/html": [
              "<video alt=\"test\" autoplay \n",
              "                loop controls style=\"height: 400px;\">\n",
              "                <source src=\"data:video/mp4;base64,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\" type=\"video/mp4\" />\n",
              "             </video>"
            ],
            "text/plain": [
              "<IPython.core.display.HTML object>"
            ]
          },
          "metadata": {
            "tags": []
          }
        }
      ]
    },
    {
      "cell_type": "markdown",
      "metadata": {
        "id": "0_7Ls2C5AoHG",
        "colab_type": "text"
      },
      "source": [
        "Experience"
      ]
    },
    {
      "cell_type": "code",
      "metadata": {
        "id": "VDCwa5KGAqIi",
        "colab_type": "code",
        "colab": {}
      },
      "source": [
        "Experience=namedtuple('Experience',('state','action', 'next_state', 'reward'))"
      ],
      "execution_count": 6,
      "outputs": []
    },
    {
      "cell_type": "code",
      "metadata": {
        "id": "8K3q_AzEeVRE",
        "colab_type": "code",
        "colab": {
          "base_uri": "https://localhost:8080/",
          "height": 34
        },
        "outputId": "13d1bc5c-a41d-49b5-99c3-9397043e4afb"
      },
      "source": [
        "a=[Experience(1,2,3,4),Experience(1,2,3,4)]\n",
        "a[0][0]"
      ],
      "execution_count": 7,
      "outputs": [
        {
          "output_type": "execute_result",
          "data": {
            "text/plain": [
              "1"
            ]
          },
          "metadata": {
            "tags": []
          },
          "execution_count": 7
        }
      ]
    },
    {
      "cell_type": "markdown",
      "metadata": {
        "id": "axE_Ky5jwGK2",
        "colab_type": "text"
      },
      "source": [
        "DQN class\n"
      ]
    },
    {
      "cell_type": "code",
      "metadata": {
        "id": "VXxFmRD2wE-d",
        "colab_type": "code",
        "colab": {}
      },
      "source": [
        "class DQN1(tf.keras.Model):\n",
        "  \n",
        "  def __init__(self):\n",
        "    super(DQN, self).__init__()\n",
        "    self.flatten=tf.keras.layers.Flatten()\n",
        "    self.dense1=tf.keras.layers.Dense(24,activation=tf.nn.relu)\n",
        "    self.dense2=tf.keras.layers.Dense(32,activation=tf.nn.relu)\n",
        "    self.out=tf.keras.layers.Dense(2,activation=tf.nn.relu)\n",
        "  \n",
        "  def call(self,inputs,training=False):\n",
        "    x=self.flatten(inputs)\n",
        "    x=self.dense2(self.dense1(x))\n",
        "    return self.out(x)\n"
      ],
      "execution_count": null,
      "outputs": []
    },
    {
      "cell_type": "code",
      "metadata": {
        "id": "jn0lZPOtGfAG",
        "colab_type": "code",
        "colab": {}
      },
      "source": [
        "def DQN_model(img_width,img_height):\n",
        "\n",
        "  model=Sequential()\n",
        "\n",
        "  model.add(Flatten())\n",
        "\n",
        "  model.add(Dense(64))\n",
        "  model.add(Activation('relu'))\n",
        "  model.add(Dropout(0.5))\n",
        "\n",
        "  model.add(Dense(32))\n",
        "  model.add(Activation('relu'))\n",
        "  model.add(Dropout(0.5))\n",
        "\n",
        "  model.add(Dense(2))\n",
        "  model.add(Activation('sigmoid'))\n",
        "\n",
        "  model.compile(loss='binary_entropy',optimizer='Adam',metrics=['accuracy'])\n",
        "  return model"
      ],
      "execution_count": 28,
      "outputs": []
    },
    {
      "cell_type": "code",
      "metadata": {
        "id": "qnnjll2qs_RM",
        "colab_type": "code",
        "colab": {}
      },
      "source": [
        "mymodel=DQN_model(40,90)\n",
        "#mymodel.summary()"
      ],
      "execution_count": 29,
      "outputs": []
    },
    {
      "cell_type": "markdown",
      "metadata": {
        "id": "Xy2STnJQwpAz",
        "colab_type": "text"
      },
      "source": [
        "Replay Memory class"
      ]
    },
    {
      "cell_type": "code",
      "metadata": {
        "id": "pLz0Ay7Awsp8",
        "colab_type": "code",
        "colab": {}
      },
      "source": [
        "class ReplayMemory:\n",
        "  \n",
        "  def __init__(self,size_limit):\n",
        "    self.memory=[]\n",
        "    self.size_limit=size_limit\n",
        "    self.push_count=0\n",
        "\n",
        "  def add_experience(self,Experience):\n",
        "    if len(self.memory)<self.size_limit:\n",
        "      self.memory.append(Experience)\n",
        "    else:\n",
        "      self.memory[self.push_count%self.size_limit]=Experience\n",
        "    self.push_count+=1\n",
        "\n",
        "  def get_sample(self,batch_size):\n",
        "    if batch_size>len(self.memory):\n",
        "      return []\n",
        "    else:\n",
        "      return random.sample(self.memory,batch_size)"
      ],
      "execution_count": 9,
      "outputs": []
    },
    {
      "cell_type": "code",
      "metadata": {
        "id": "os-GLS3LDJMy",
        "colab_type": "code",
        "colab": {
          "base_uri": "https://localhost:8080/",
          "height": 50
        },
        "outputId": "497c85ae-81ec-4db4-fde2-ad9044055391"
      },
      "source": [
        "rm=ReplayMemory(4)\n",
        "rm.add_experience(Experience(2,2,2,1))\n",
        "rm.add_experience(Experience(2,2,2,2))\n",
        "rm.add_experience(Experience(2,2,2,3))\n",
        "rm.add_experience(Experience(2,2,2,4))\n",
        "rm.add_experience(Experience(2,2,2,5))\n",
        "rm.get_sample(2)"
      ],
      "execution_count": 10,
      "outputs": [
        {
          "output_type": "execute_result",
          "data": {
            "text/plain": [
              "[Experience(state=2, action=2, next_state=2, reward=3),\n",
              " Experience(state=2, action=2, next_state=2, reward=2)]"
            ]
          },
          "metadata": {
            "tags": []
          },
          "execution_count": 10
        }
      ]
    },
    {
      "cell_type": "markdown",
      "metadata": {
        "id": "TWuBGSAYwMr8",
        "colab_type": "text"
      },
      "source": [
        "Agent class\n"
      ]
    },
    {
      "cell_type": "code",
      "metadata": {
        "id": "Zzou6Q-QwQgQ",
        "colab_type": "code",
        "colab": {}
      },
      "source": [
        "class Agent(object):\n",
        "\n",
        "  def __init__(self,n_actions,replay_memory,batch_size,eps_min,eps_max,eps_decay,learning_rate):\n",
        "    \n",
        "    self.n_actions=n_actions\n",
        "    self.learning_rate=learning_rate\n",
        "\n",
        "    self.replay_memory=replay_memory\n",
        "    self.batch_size= batch_size\n",
        "\n",
        "    self.eps_min=eps_min\n",
        "    self.eps_max=eps_max\n",
        "    self.eps_decay=eps_decay\n",
        "\n",
        "    self.step=0\n",
        "  \n",
        "  def select_action(self,state):\n",
        "    eps = self.get_epsilon()\n",
        "    \n",
        "    if eps> np.random.rand(1):\n",
        "      return np.random.randint(0,n_actions)\n",
        "    else:\n",
        "      q_vals=self.dqn.predict(state.reshape(-1,self.input_shape[0],self.input_shape[1]))\n",
        "      return np.argmax(q_vals)\n",
        "  \n",
        "  def get_epsilon(self):\n",
        "    return self.eps_min + (self.eps_max - self.eps_min)*np.exp(-self.step*self.eps_decay)\n",
        "\n",
        "  #def trainDQN(self,state,q_target):\n",
        "  # self.trainDQN.compile(loss=\"mse\",optimizer=Adam(lr=self.adam_lr))\n",
        "  #  self.trainDQN.fit(state,q_target)\n",
        "    \n",
        "  #def update_targetDQN(self):\n",
        "  #  self.targetDQN.set_weights(self.trainDQN.get_weights())\n",
        "\n",
        "  def plot_mov_avg(self,episode_durations):\n",
        "    pass"
      ],
      "execution_count": 12,
      "outputs": []
    },
    {
      "cell_type": "code",
      "metadata": {
        "id": "2hElDsAL_NnN",
        "colab_type": "code",
        "colab": {}
      },
      "source": [
        "pass"
      ],
      "execution_count": 13,
      "outputs": []
    },
    {
      "cell_type": "markdown",
      "metadata": {
        "id": "f8z1aYPrwXoR",
        "colab_type": "text"
      },
      "source": [
        "Cart Pole Environment"
      ]
    },
    {
      "cell_type": "code",
      "metadata": {
        "id": "irmw40tQwcZ-",
        "colab_type": "code",
        "colab": {}
      },
      "source": [
        "class CartPoleEnv:\n",
        "  def __init__(self):\n",
        "    self.env=wrap_env(gym.make(\"CartPole-v0\"))\n",
        "    self.env.reset()\n",
        "    self.done=False\n",
        "    self.curr_screen=None\n",
        "  \n",
        "  def reset(self):\n",
        "    self.env.reset()\n",
        "    self.curr_screen=None\n",
        "  \n",
        "  def render(self,mode='human'):\n",
        "    return self.env.render(mode)\n",
        "    \n",
        "  def close():\n",
        "    self.env.close()\n",
        "\n",
        "  def get_state(self):\n",
        "    if self.done or self.at_start:\n",
        "      self.curr_screen=self.process_frame()\n",
        "      return np.zeros(self.curr_screen.shape)\n",
        "    else:\n",
        "      scr1=self.curr_screen\n",
        "      scrn2=self.process_frame()\n",
        "      self.curr_screen=scrn2\n",
        "      return scrn2-scrn1\n",
        "  \n",
        "  def take_action(self,action):\n",
        "    next_state,reward,self.done,info= self.env.step(action)\n",
        "    return reward\n",
        "  \n",
        "  def at_start():\n",
        "    if self.curr_screen is None:\n",
        "      return True\n",
        "    else:\n",
        "      return False\n",
        "  \n",
        "  def process_frame(self,shape=(90,40)):\n",
        "\n",
        "    frame=self.render('rgb_array')\n",
        "\n",
        "    frame_height = frame.shape[1]\n",
        "    top = int(frame_height * 0.2)\n",
        "    bottom = int(frame_height * 0.7)\n",
        "\n",
        "    frame = frame.astype(np.uint8)\n",
        "    frame = cv2.cvtColor(frame, cv2.COLOR_RGB2GRAY)\n",
        "    frame = frame[top:bottom,:]  # crop image\n",
        "    frame = cv2.resize(frame, shape,interpolation=cv2.INTER_NEAREST)\n",
        "    return frame\n",
        "  \n",
        "  def n_available_actions(self):\n",
        "    return self.env.action_space.n"
      ],
      "execution_count": 14,
      "outputs": []
    },
    {
      "cell_type": "code",
      "metadata": {
        "id": "-OHaO4501YyI",
        "colab_type": "code",
        "colab": {
          "base_uri": "https://localhost:8080/",
          "height": 74
        },
        "outputId": "08c9215b-a08b-4ec7-a90e-c03e0cf69688"
      },
      "source": [
        "from google.colab.patches import cv2_imshow\n",
        "env=CartPoleEnv()\n",
        "env.reset()\n",
        "#cv2_imshow(env.render('rgb_array'))\n",
        "screen=env.process_frame()\n",
        "print(screen.shape)\n",
        "cv2_imshow(screen)"
      ],
      "execution_count": 15,
      "outputs": [
        {
          "output_type": "stream",
          "text": [
            "(40, 90, 3)\n"
          ],
          "name": "stdout"
        },
        {
          "output_type": "display_data",
          "data": {
            "image/png": "[encoded data removed]",
            "text/plain": [
              "<PIL.Image.Image image mode=RGB size=90x40 at 0x7FD708CC4630>"
            ]
          },
          "metadata": {
            "tags": []
          }
        }
      ]
    },
    {
      "cell_type": "code",
      "metadata": {
        "id": "l31NIPBI0Bmd",
        "colab_type": "code",
        "colab": {
          "base_uri": "https://localhost:8080/",
          "height": 57
        },
        "outputId": "f86aa003-82d4-4d59-d381-e42bd429dead"
      },
      "source": [
        "env.reset()\n",
        "scrn=env.get_state()\n",
        "cv2_imshow(scrn)"
      ],
      "execution_count": 16,
      "outputs": [
        {
          "output_type": "display_data",
          "data": {
            "image/png": "[encoded data removed]",
            "text/plain": [
              "<PIL.Image.Image image mode=RGB size=90x40 at 0x7FD708CC6048>"
            ]
          },
          "metadata": {
            "tags": []
          }
        }
      ]
    },
    {
      "cell_type": "code",
      "metadata": {
        "id": "L4WusJfhAawr",
        "colab_type": "code",
        "colab": {
          "base_uri": "https://localhost:8080/",
          "height": 57
        },
        "outputId": "84becd48-044c-4383-df9d-07d8f6f99bf3"
      },
      "source": [
        "env.reset()\n",
        "for i in range(3):\n",
        "  env.take_action(1)\n",
        "scrn=env.get_state()\n",
        "cv2_imshow(scrn)"
      ],
      "execution_count": null,
      "outputs": [
        {
          "output_type": "display_data",
          "data": {
            "image/png": "[encoded data removed]",
            "text/plain": [
              "<PIL.Image.Image image mode=L size=90x40 at 0x7FC2D49C0470>"
            ]
          },
          "metadata": {
            "tags": []
          }
        }
      ]
    },
    {
      "cell_type": "markdown",
      "metadata": {
        "id": "pZWtA-NwcL7X",
        "colab_type": "text"
      },
      "source": [
        "Helper functions"
      ]
    },
    {
      "cell_type": "code",
      "metadata": {
        "id": "iIsn7ItjcQwS",
        "colab_type": "code",
        "colab": {}
      },
      "source": [
        "def extract(samples):\n",
        "  l=[[],[],[],[]]\n",
        "  for i in samples:\n",
        "    l[0].append(i[0])\n",
        "    l[1].append(i[1])\n",
        "    l[2].append(i[2])\n",
        "    l[3].append(i[3])\n",
        "  return (l[0],l[1],l[2],l[3])"
      ],
      "execution_count": null,
      "outputs": []
    },
    {
      "cell_type": "code",
      "metadata": {
        "id": "5lsDa6KJdp-7",
        "colab_type": "code",
        "colab": {
          "base_uri": "https://localhost:8080/",
          "height": 34
        },
        "outputId": "76abd238-3263-4293-98d2-10ddc7aba116"
      },
      "source": [
        "samples=[Experience(1,1,1,1),Experience(2,2,2,2),Experience(3,3,3,3),Experience(4,4,4,4)]\n",
        "list=extract(samples)\n",
        "print(list)"
      ],
      "execution_count": null,
      "outputs": [
        {
          "output_type": "stream",
          "text": [
            "([1, 2, 3, 4], [1, 2, 3, 4], [1, 2, 3, 4], [1, 2, 3, 4])\n"
          ],
          "name": "stdout"
        }
      ]
    },
    {
      "cell_type": "markdown",
      "metadata": {
        "id": "DwNtarJwAVTY",
        "colab_type": "text"
      },
      "source": [
        "Hyperparameters"
      ]
    },
    {
      "cell_type": "code",
      "metadata": {
        "id": "phMYnMHqByag",
        "colab_type": "code",
        "colab": {}
      },
      "source": [
        "learning_rate=0.999\n",
        "batch_size=256\n",
        "eps_max=1\n",
        "eps_min=0.01\n",
        "eps_decay=0.001\n",
        "update_targetDQN_iter=10\n",
        "rm_capacity=100000\n",
        "adam_lr=0.001\n",
        "num_episodes=1000\n",
        "input_shape=(40,90)\n",
        "\n",
        "n_actions=CartPoleEnv().n_available_actions()\n",
        "#print(n_actions)"
      ],
      "execution_count": null,
      "outputs": []
    },
    {
      "cell_type": "markdown",
      "metadata": {
        "id": "Lh0vR1mhFEo6",
        "colab_type": "text"
      },
      "source": [
        "Initializing objects"
      ]
    },
    {
      "cell_type": "code",
      "metadata": {
        "id": "S2Y32mP_Aq_p",
        "colab_type": "code",
        "colab": {
          "base_uri": "https://localhost:8080/",
          "height": 370
        },
        "outputId": "fec7193b-590d-44fd-f702-2ae262f6b3f3"
      },
      "source": [
        "env=CartPoleEnv()\n",
        "trainDQN=DQN()\n",
        "targetDQN=DQN()\n",
        "\n",
        "rm=ReplayMemory(rm_capacity)\n",
        "agent=Agent(n_actions,trainDQN,targetDQN,rm,batch_size,input_shape,eps_min,eps_max,eps_decay,learning_rate,adam_lr)\n",
        "agent.update_targetDQN()"
      ],
      "execution_count": null,
      "outputs": [
        {
          "output_type": "error",
          "ename": "ValueError",
          "evalue": "ignored",
          "traceback": [
            "\u001b[0;31m---------------------------------------------------------------------------\u001b[0m",
            "\u001b[0;31mValueError\u001b[0m                                Traceback (most recent call last)",
            "\u001b[0;32m<ipython-input-121-c24663c09bfc>\u001b[0m in \u001b[0;36m<module>\u001b[0;34m()\u001b[0m\n\u001b[1;32m      1\u001b[0m \u001b[0menv\u001b[0m\u001b[0;34m=\u001b[0m\u001b[0mCartPoleEnv\u001b[0m\u001b[0;34m(\u001b[0m\u001b[0;34m)\u001b[0m\u001b[0;34m\u001b[0m\u001b[0;34m\u001b[0m\u001b[0m\n\u001b[0;32m----> 2\u001b[0;31m \u001b[0mtrainDQN\u001b[0m\u001b[0;34m=\u001b[0m\u001b[0mDQN\u001b[0m\u001b[0;34m(\u001b[0m\u001b[0;34m)\u001b[0m\u001b[0;34m\u001b[0m\u001b[0;34m\u001b[0m\u001b[0m\n\u001b[0m\u001b[1;32m      3\u001b[0m \u001b[0mtargetDQN\u001b[0m\u001b[0;34m=\u001b[0m\u001b[0mDQN\u001b[0m\u001b[0;34m(\u001b[0m\u001b[0;34m)\u001b[0m\u001b[0;34m\u001b[0m\u001b[0;34m\u001b[0m\u001b[0m\n\u001b[1;32m      4\u001b[0m \u001b[0;34m\u001b[0m\u001b[0m\n\u001b[1;32m      5\u001b[0m \u001b[0mrm\u001b[0m\u001b[0;34m=\u001b[0m\u001b[0mReplayMemory\u001b[0m\u001b[0;34m(\u001b[0m\u001b[0mrm_capacity\u001b[0m\u001b[0;34m)\u001b[0m\u001b[0;34m\u001b[0m\u001b[0;34m\u001b[0m\u001b[0m\n",
            "\u001b[0;32m/usr/local/lib/python3.6/dist-packages/tensorflow/python/keras/engine/base_layer.py\u001b[0m in \u001b[0;36m__call__\u001b[0;34m(self, *args, **kwargs)\u001b[0m\n\u001b[1;32m    914\u001b[0m     \u001b[0;31m#   not to any other argument.\u001b[0m\u001b[0;34m\u001b[0m\u001b[0;34m\u001b[0m\u001b[0;34m\u001b[0m\u001b[0m\n\u001b[1;32m    915\u001b[0m     \u001b[0;31m# - setting the SavedModel saving spec.\u001b[0m\u001b[0;34m\u001b[0m\u001b[0;34m\u001b[0m\u001b[0;34m\u001b[0m\u001b[0m\n\u001b[0;32m--> 916\u001b[0;31m     \u001b[0minputs\u001b[0m\u001b[0;34m,\u001b[0m \u001b[0margs\u001b[0m\u001b[0;34m,\u001b[0m \u001b[0mkwargs\u001b[0m \u001b[0;34m=\u001b[0m \u001b[0mself\u001b[0m\u001b[0;34m.\u001b[0m\u001b[0m_split_out_first_arg\u001b[0m\u001b[0;34m(\u001b[0m\u001b[0margs\u001b[0m\u001b[0;34m,\u001b[0m \u001b[0mkwargs\u001b[0m\u001b[0;34m)\u001b[0m\u001b[0;34m\u001b[0m\u001b[0;34m\u001b[0m\u001b[0m\n\u001b[0m\u001b[1;32m    917\u001b[0m     \u001b[0minput_list\u001b[0m \u001b[0;34m=\u001b[0m \u001b[0mnest\u001b[0m\u001b[0;34m.\u001b[0m\u001b[0mflatten\u001b[0m\u001b[0;34m(\u001b[0m\u001b[0minputs\u001b[0m\u001b[0;34m)\u001b[0m\u001b[0;34m\u001b[0m\u001b[0;34m\u001b[0m\u001b[0m\n\u001b[1;32m    918\u001b[0m \u001b[0;34m\u001b[0m\u001b[0m\n",
            "\u001b[0;32m/usr/local/lib/python3.6/dist-packages/tensorflow/python/keras/engine/base_layer.py\u001b[0m in \u001b[0;36m_split_out_first_arg\u001b[0;34m(self, args, kwargs)\u001b[0m\n\u001b[1;32m   2978\u001b[0m     \u001b[0;32melse\u001b[0m\u001b[0;34m:\u001b[0m\u001b[0;34m\u001b[0m\u001b[0;34m\u001b[0m\u001b[0m\n\u001b[1;32m   2979\u001b[0m       raise ValueError(\n\u001b[0;32m-> 2980\u001b[0;31m           'The first argument to `Layer.call` must always be passed.')\n\u001b[0m\u001b[1;32m   2981\u001b[0m     \u001b[0;32mreturn\u001b[0m \u001b[0minputs\u001b[0m\u001b[0;34m,\u001b[0m \u001b[0margs\u001b[0m\u001b[0;34m,\u001b[0m \u001b[0mkwargs\u001b[0m\u001b[0;34m\u001b[0m\u001b[0;34m\u001b[0m\u001b[0m\n\u001b[1;32m   2982\u001b[0m \u001b[0;34m\u001b[0m\u001b[0m\n",
            "\u001b[0;31mValueError\u001b[0m: The first argument to `Layer.call` must always be passed."
          ]
        }
      ]
    },
    {
      "cell_type": "markdown",
      "metadata": {
        "id": "m04cMp_4_xju",
        "colab_type": "text"
      },
      "source": [
        "Main Training Loop"
      ]
    },
    {
      "cell_type": "code",
      "metadata": {
        "id": "gF-iQ0OkBey1",
        "colab_type": "code",
        "colab": {}
      },
      "source": [
        "episode_durations=[]\n",
        "for episode in range(num_episodes):\n",
        "  env.reset()\n",
        "  state=env.get_state()\n",
        "  agent.step=0\n",
        "  while env.done==False:\n",
        "    a=agent.select_action(state)\n",
        "    reward= env.take_action(a)\n",
        "    next=env.get_state()\n",
        "    rm.add_experience(Experience(state,a,next,reward))\n",
        "    state=next\n",
        "    sample=rm.get_sample(batch_size)\n",
        "    if len(sample)!=0:\n",
        "      states,actions,next_states,rewards=extract(sample)\n",
        "      for s,a,ns,r in extract(sample):\n",
        "        q_next=agent.targetDQN.predict(ns)\n",
        "        q_target=r+ learning_rate*q_next\n",
        "        agent.trainDQN(s,q_target)\n",
        "    agent.step+=1\n",
        "    if env.done:\n",
        "      episode_durations.append(agent.step)\n",
        "\n",
        "  if episode%update_targetDQN_iter==0:\n",
        "    agent.update_targetDQN()\n",
        "\n",
        "#env.close()"
      ],
      "execution_count": null,
      "outputs": []
    },
    {
      "cell_type": "code",
      "metadata": {
        "id": "rSmSx7xqfuZ4",
        "colab_type": "code",
        "colab": {
          "base_uri": "https://localhost:8080/",
          "height": 34
        },
        "outputId": "20ca4864-7d92-41c3-b12d-9f4632c10e39"
      },
      "source": [
        "print(episode_durations)"
      ],
      "execution_count": null,
      "outputs": [
        {
          "output_type": "stream",
          "text": [
            "[16]\n"
          ],
          "name": "stdout"
        }
      ]
    },
    {
      "cell_type": "code",
      "metadata": {
        "id": "AVAnh30yGURg",
        "colab_type": "code",
        "colab": {}
      },
      "source": [
        ""
      ],
      "execution_count": null,
      "outputs": []
    }
  ]
}