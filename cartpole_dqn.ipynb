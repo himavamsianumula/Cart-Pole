{
  "nbformat": 4,
  "nbformat_minor": 0,
  "metadata": {
    "colab": {
      "name": "cartpole_dqn.ipynb",
      "provenance": [],
      "collapsed_sections": [],
      "authorship_tag": "ABX9TyP0+KMBUisrTCg/Yv8Lkz5+",
      "include_colab_link": true
    },
    "kernelspec": {
      "name": "python3",
      "display_name": "Python 3"
    }
  },
  "cells": [
    {
      "cell_type": "markdown",
      "metadata": {
        "id": "view-in-github",
        "colab_type": "text"
      },
      "source": [
        "<a href=\"https://colab.research.google.com/github/himavamsianumula/Cart-Pole/blob/master/cartpole_dqn.ipynb\" target=\"_parent\"><img src=\"https://colab.research.google.com/assets/colab-badge.svg\" alt=\"Open In Colab\"/></a>"
      ]
    },
    {
      "cell_type": "code",
      "metadata": {
        "id": "GCi2T16yzjew",
        "colab_type": "code",
        "colab": {
          "base_uri": "https://localhost:8080/",
          "height": 253
        },
        "outputId": "7c39a6b1-0e48-4ade-a4dc-6d725ff74472"
      },
      "source": [
        "!pip install gym pyvirtualdisplay > /dev/null 2>&1\n",
        "!apt-get install -y xvfb python-opengl ffmpeg > /dev/null 2>&1\n",
        "\n",
        "!apt-get update > /dev/null 2>&1\n",
        "!apt-get install cmake > /dev/null 2>&1\n",
        "!pip install --upgrade setuptools 2>&1\n",
        "!pip install ez_setup > /dev/null 2>&1\n",
        "!pip install gym[atari] > /dev/null 2>&1"
      ],
      "execution_count": null,
      "outputs": [
        {
          "output_type": "stream",
          "text": [
            "Collecting setuptools\n",
            "\u001b[?25l  Downloading https://files.pythonhosted.org/packages/c3/a9/5dc32465951cf4812e9e93b4ad2d314893c2fa6d5f66ce5c057af6e76d85/setuptools-49.6.0-py3-none-any.whl (803kB)\n",
            "\u001b[K     |████████████████████████████████| 808kB 7.9MB/s \n",
            "\u001b[31mERROR: datascience 0.10.6 has requirement folium==0.2.1, but you'll have folium 0.8.3 which is incompatible.\u001b[0m\n",
            "\u001b[?25hInstalling collected packages: setuptools\n",
            "  Found existing installation: setuptools 49.2.0\n",
            "    Uninstalling setuptools-49.2.0:\n",
            "      Successfully uninstalled setuptools-49.2.0\n",
            "Successfully installed setuptools-49.6.0\n"
          ],
          "name": "stdout"
        },
        {
          "output_type": "display_data",
          "data": {
            "application/vnd.colab-display-data+json": {
              "pip_warning": {
                "packages": [
                  "pkg_resources"
                ]
              }
            }
          },
          "metadata": {
            "tags": []
          }
        }
      ]
    },
    {
      "cell_type": "markdown",
      "metadata": {
        "id": "tyjuuQcMuppX",
        "colab_type": "text"
      },
      "source": [
        "Libraries"
      ]
    },
    {
      "cell_type": "code",
      "metadata": {
        "id": "Ow2wG2LWuk1x",
        "colab_type": "code",
        "colab": {}
      },
      "source": [
        "import cv2\n",
        "import gym\n",
        "from gym import logger as gymlogger\n",
        "from gym.wrappers import Monitor\n",
        "gymlogger.set_level(40) #error only\n",
        "import tensorflow as tf\n",
        "import numpy as np\n",
        "import random\n",
        "import matplotlib\n",
        "import matplotlib.pyplot as plt\n",
        "%matplotlib inline\n",
        "import math\n",
        "import glob\n",
        "import io\n",
        "from collections import namedtuple\n",
        "import base64\n",
        "from IPython.display import HTML\n",
        "from IPython import display as ipythondisplay"
      ],
      "execution_count": null,
      "outputs": []
    },
    {
      "cell_type": "code",
      "metadata": {
        "id": "ofkA_Cltz5GV",
        "colab_type": "code",
        "colab": {
          "base_uri": "https://localhost:8080/",
          "height": 34
        },
        "outputId": "8b1cde91-7e20-4905-e8b0-13c83fe89b30"
      },
      "source": [
        "from pyvirtualdisplay import Display\n",
        "display = Display(visible=0, size=(1400, 900))\n",
        "display.start()"
      ],
      "execution_count": null,
      "outputs": [
        {
          "output_type": "execute_result",
          "data": {
            "text/plain": [
              "<pyvirtualdisplay.display.Display at 0x7fc2dda43320>"
            ]
          },
          "metadata": {
            "tags": []
          },
          "execution_count": 78
        }
      ]
    },
    {
      "cell_type": "code",
      "metadata": {
        "id": "523MRsRNz-Lp",
        "colab_type": "code",
        "colab": {}
      },
      "source": [
        "\"\"\"\n",
        "Utility functions to enable video recording of gym environment and displaying it\n",
        "To enable video, just do \"env = wrap_env(env)\"\"\n",
        "\"\"\"\n",
        "\n",
        "def show_video():\n",
        "  mp4list = glob.glob('video/*.mp4')\n",
        "  if len(mp4list) > 0:\n",
        "    mp4 = mp4list[0]\n",
        "    video = io.open(mp4, 'r+b').read()\n",
        "    encoded = base64.b64encode(video)\n",
        "    ipythondisplay.display(HTML(data='''<video alt=\"test\" autoplay \n",
        "                loop controls style=\"height: 400px;\">\n",
        "                <source src=\"data:video/mp4;base64,{0}\" type=\"video/mp4\" />\n",
        "             </video>'''.format(encoded.decode('ascii'))))\n",
        "  else: \n",
        "    print(\"Could not find video\")\n",
        "    \n",
        "\n",
        "def wrap_env(env):\n",
        "  env = Monitor(env, './video', force=True)\n",
        "  return env"
      ],
      "execution_count": null,
      "outputs": []
    },
    {
      "cell_type": "code",
      "metadata": {
        "id": "GARYPOVV0DLE",
        "colab_type": "code",
        "colab": {
          "base_uri": "https://localhost:8080/",
          "height": 421
        },
        "outputId": "d1bc7e47-cccf-45af-a0a3-5ac79559e0d7"
      },
      "source": [
        "env = wrap_env(gym.make(\"CartPole-v0\"))\n",
        "observation = env.reset()\n",
        "\n",
        "while True:\n",
        "    env.render()\n",
        "    action = env.action_space.sample() \n",
        "    observation, reward, done, info = env.step(action)\n",
        "    if done: \n",
        "      break;\n",
        "          \n",
        "env.close()\n",
        "show_video()"
      ],
      "execution_count": null,
      "outputs": [
        {
          "output_type": "display_data",
          "data": {
            "text/html": [
              "<video alt=\"test\" autoplay \n",
              "                loop controls style=\"height: 400px;\">\n",
              "                <source src=\"data:video/mp4;base64,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\" type=\"video/mp4\" />\n",
              "             </video>"
            ],
            "text/plain": [
              "<IPython.core.display.HTML object>"
            ]
          },
          "metadata": {
            "tags": []
          }
        }
      ]
    },
    {
      "cell_type": "markdown",
      "metadata": {
        "id": "0_7Ls2C5AoHG",
        "colab_type": "text"
      },
      "source": [
        "Experience"
      ]
    },
    {
      "cell_type": "code",
      "metadata": {
        "id": "VDCwa5KGAqIi",
        "colab_type": "code",
        "colab": {}
      },
      "source": [
        "Experience=namedtuple('Experience',('state','action', 'next_state', 'reward'))"
      ],
      "execution_count": null,
      "outputs": []
    },
    {
      "cell_type": "code",
      "metadata": {
        "id": "8K3q_AzEeVRE",
        "colab_type": "code",
        "colab": {
          "base_uri": "https://localhost:8080/",
          "height": 34
        },
        "outputId": "76dd4d1e-0aad-4887-8227-83d3e764eab9"
      },
      "source": [
        "a=[Experience(1,2,3,4),Experience(1,2,3,4)]\n",
        "a[0][0]"
      ],
      "execution_count": null,
      "outputs": [
        {
          "output_type": "execute_result",
          "data": {
            "text/plain": [
              "1"
            ]
          },
          "metadata": {
            "tags": []
          },
          "execution_count": 82
        }
      ]
    },
    {
      "cell_type": "markdown",
      "metadata": {
        "id": "axE_Ky5jwGK2",
        "colab_type": "text"
      },
      "source": [
        "DQN class\n"
      ]
    },
    {
      "cell_type": "code",
      "metadata": {
        "id": "VXxFmRD2wE-d",
        "colab_type": "code",
        "colab": {}
      },
      "source": [
        "class DQN1(tf.keras.Model):\n",
        "  \n",
        "  def __init__(self):\n",
        "    super(DQN, self).__init__()\n",
        "    self.flatten=tf.keras.layers.Flatten()\n",
        "    self.dense1=tf.keras.layers.Dense(24,activation=tf.nn.relu)\n",
        "    self.dense2=tf.keras.layers.Dense(32,activation=tf.nn.relu)\n",
        "    self.out=tf.keras.layers.Dense(2,activation=tf.nn.relu)\n",
        "  \n",
        "  def call(self,inputs,training=False):\n",
        "    x=self.flatten(inputs)\n",
        "    x=self.dense2(self.dense1(x))\n",
        "    return self.out(x)\n"
      ],
      "execution_count": null,
      "outputs": []
    },
    {
      "cell_type": "code",
      "metadata": {
        "id": "jn0lZPOtGfAG",
        "colab_type": "code",
        "colab": {
          "base_uri": "https://localhost:8080/",
          "height": 286
        },
        "outputId": "dee47ae7-e9c1-447d-ed28-f799ff0cab1d"
      },
      "source": [
        "\n",
        "DQN= tf.keras.Sequential()\n",
        "DQN.add(tf.keras.layers.Flatten(input_shape=(40,90)))\n",
        "DQN.add(tf.keras.layers.Dense(24, activation=\"relu\",))\n",
        "DQN.add(tf.keras.layers.Dense(32, activation=\"relu\"))\n",
        "DQN.add(tf.keras.layers.Dense(2, activation=\"relu\"))\n",
        "\n",
        "DQN.summary()"
      ],
      "execution_count": null,
      "outputs": [
        {
          "output_type": "stream",
          "text": [
            "Model: \"sequential_7\"\n",
            "_________________________________________________________________\n",
            "Layer (type)                 Output Shape              Param #   \n",
            "=================================================================\n",
            "flatten_13 (Flatten)         (None, 3600)              0         \n",
            "_________________________________________________________________\n",
            "dense_51 (Dense)             (None, 24)                86424     \n",
            "_________________________________________________________________\n",
            "dense_52 (Dense)             (None, 32)                800       \n",
            "_________________________________________________________________\n",
            "dense_53 (Dense)             (None, 2)                 66        \n",
            "=================================================================\n",
            "Total params: 87,290\n",
            "Trainable params: 87,290\n",
            "Non-trainable params: 0\n",
            "_________________________________________________________________\n"
          ],
          "name": "stdout"
        }
      ]
    },
    {
      "cell_type": "markdown",
      "metadata": {
        "id": "Xy2STnJQwpAz",
        "colab_type": "text"
      },
      "source": [
        "Replay Memory class"
      ]
    },
    {
      "cell_type": "code",
      "metadata": {
        "id": "pLz0Ay7Awsp8",
        "colab_type": "code",
        "colab": {}
      },
      "source": [
        "class ReplayMemory:\n",
        "  \n",
        "  def __init__(self,size_limit):\n",
        "    self.memory=[]\n",
        "    self.size_limit=size_limit\n",
        "    self.push_count=0\n",
        "\n",
        "  def add_experience(self,Experience):\n",
        "    if len(self.memory)<self.size_limit:\n",
        "      self.memory.append(Experience)\n",
        "    else:\n",
        "      self.memory[self.push_count%self.size_limit]=Experience\n",
        "    self.push_count+=1\n",
        "\n",
        "  def get_sample(self,batch_size):\n",
        "    if batch_size>len(self.memory):\n",
        "      return []\n",
        "    else:\n",
        "      return random.sample(self.memory,batch_size)"
      ],
      "execution_count": null,
      "outputs": []
    },
    {
      "cell_type": "code",
      "metadata": {
        "id": "os-GLS3LDJMy",
        "colab_type": "code",
        "colab": {
          "base_uri": "https://localhost:8080/",
          "height": 50
        },
        "outputId": "fb134e73-94ab-470f-c4bb-22589c39d298"
      },
      "source": [
        "rm=ReplayMemory(4)\n",
        "rm.add_experience(Experience(2,2,2,1))\n",
        "rm.add_experience(Experience(2,2,2,2))\n",
        "rm.add_experience(Experience(2,2,2,3))\n",
        "rm.add_experience(Experience(2,2,2,4))\n",
        "rm.add_experience(Experience(2,2,2,5))\n",
        "rm.get_sample(2)"
      ],
      "execution_count": null,
      "outputs": [
        {
          "output_type": "execute_result",
          "data": {
            "text/plain": [
              "[Experience(state=2, action=2, next_state=2, reward=5),\n",
              " Experience(state=2, action=2, next_state=2, reward=4)]"
            ]
          },
          "metadata": {
            "tags": []
          },
          "execution_count": 111
        }
      ]
    },
    {
      "cell_type": "markdown",
      "metadata": {
        "id": "TWuBGSAYwMr8",
        "colab_type": "text"
      },
      "source": [
        "Agent class\n"
      ]
    },
    {
      "cell_type": "code",
      "metadata": {
        "id": "Zzou6Q-QwQgQ",
        "colab_type": "code",
        "colab": {}
      },
      "source": [
        "class Agent(object):\n",
        "\n",
        "  def __init__(self,n_actions,dqn,target_dqn,replay_memory,batch_size,input_shape,eps_min,eps_max,eps_decay,learning_rate,adam_lr):\n",
        "    \n",
        "    self.n_actions=n_actions\n",
        "    self.trainDQN=dqn\n",
        "    self.targetDQN=target_dqn\n",
        "    self.lr=adam_lr\n",
        "    self.learning_rate=learning_rate\n",
        "    self.input_shape=input_shape\n",
        "\n",
        "    self.replay_memory=replay_memory\n",
        "    self.batch_size= batch_size\n",
        "\n",
        "    self.eps_min=eps_min\n",
        "    self.eps_max=eps_max\n",
        "    self.eps_decay=eps_decay\n",
        "\n",
        "    self.step=0\n",
        "  \n",
        "  def select_action(self,state):\n",
        "    eps = self.get_epsilon()\n",
        "    \n",
        "    if eps> np.random.rand(1):\n",
        "      return np.random.randint(0,n_actions)\n",
        "    else:\n",
        "      q_vals=self.dqn.predict(state.reshape(-1,self.input_shape[0],self.input_shape[1]))\n",
        "      return np.argmax(q_vals)\n",
        "  \n",
        "  def get_epsilon(self):\n",
        "    return self.eps_min + (self.eps_max - self.eps_min)*np.exp(-self.step*self.eps_decay)\n",
        "\n",
        "  def trainDQN(self,state,q_target):\n",
        "    self.trainDQN.compile(loss=\"mse\",optimizer=Adam(lr=self.adam_lr))\n",
        "    self.trainDQN.fit(state,q_target)\n",
        "    \n",
        "  def update_targetDQN(self):\n",
        "    self.targetDQN.set_weights(self.trainDQN.get_weights())\n",
        "\n",
        "  def plot_mov_avg(self,episode_durations):\n",
        "    pass"
      ],
      "execution_count": null,
      "outputs": []
    },
    {
      "cell_type": "code",
      "metadata": {
        "id": "2hElDsAL_NnN",
        "colab_type": "code",
        "colab": {}
      },
      "source": [
        "pass"
      ],
      "execution_count": null,
      "outputs": []
    },
    {
      "cell_type": "markdown",
      "metadata": {
        "id": "f8z1aYPrwXoR",
        "colab_type": "text"
      },
      "source": [
        "Cart Pole Environment"
      ]
    },
    {
      "cell_type": "code",
      "metadata": {
        "id": "irmw40tQwcZ-",
        "colab_type": "code",
        "colab": {}
      },
      "source": [
        "class CartPoleEnv:\n",
        "  def __init__(self):\n",
        "    self.env=wrap_env(gym.make(\"CartPole-v0\"))\n",
        "    self.env.reset()\n",
        "    self.done=False\n",
        "    self.curr_screen=None\n",
        "  \n",
        "  def reset(self):\n",
        "    self.env.reset()\n",
        "    self.curr_screen=None\n",
        "  \n",
        "  def render(self,mode='human'):\n",
        "    return self.env.render(mode)\n",
        "    \n",
        "  def close():\n",
        "    self.env.close()\n",
        "\n",
        "  def get_state(self):\n",
        "    if self.done or self.at_start:\n",
        "      self.curr_screen=self.process_frame()\n",
        "      return np.zeros(self.curr_screen.shape)\n",
        "    else:\n",
        "      scr1=self.curr_screen\n",
        "      scrn2=self.process_frame()\n",
        "      self.curr_screen=scrn2\n",
        "      return scrn2-scrn1\n",
        "  \n",
        "  def take_action(self,action):\n",
        "    next_state,reward,self.done,info= self.env.step(action)\n",
        "    return reward\n",
        "  \n",
        "  def at_start():\n",
        "    if self.curr_screen is None:\n",
        "      return True\n",
        "    else:\n",
        "      return False\n",
        "  \n",
        "  def process_frame(self,shape=(90,40)):\n",
        "\n",
        "    frame=self.render('rgb_array')\n",
        "\n",
        "    frame_height = frame.shape[1]\n",
        "    top = int(frame_height * 0.2)\n",
        "    bottom = int(frame_height * 0.7)\n",
        "\n",
        "    frame = frame.astype(np.uint8)\n",
        "    frame = cv2.cvtColor(frame, cv2.COLOR_RGB2GRAY)\n",
        "    frame = frame[top:bottom,:]  # crop image\n",
        "    frame = cv2.resize(frame, shape,interpolation=cv2.INTER_NEAREST)\n",
        "    return frame\n",
        "  \n",
        "  def n_available_actions(self):\n",
        "    return self.env.action_space.n"
      ],
      "execution_count": null,
      "outputs": []
    },
    {
      "cell_type": "code",
      "metadata": {
        "id": "-OHaO4501YyI",
        "colab_type": "code",
        "colab": {
          "base_uri": "https://localhost:8080/",
          "height": 74
        },
        "outputId": "440e9a6f-8a77-40f9-c3f8-7fa1e22d9a37"
      },
      "source": [
        "from google.colab.patches import cv2_imshow\n",
        "env=CartPoleEnv()\n",
        "env.reset()\n",
        "#cv2_imshow(env.render('rgb_array'))\n",
        "screen=env.process_frame()\n",
        "print(screen.shape)\n",
        "cv2_imshow(screen)"
      ],
      "execution_count": null,
      "outputs": [
        {
          "output_type": "stream",
          "text": [
            "(40, 90)\n"
          ],
          "name": "stdout"
        },
        {
          "output_type": "display_data",
          "data": {
            "image/png": "[encoded data removed]",
            "text/plain": [
              "<PIL.Image.Image image mode=L size=90x40 at 0x7FC2DD95B9E8>"
            ]
          },
          "metadata": {
            "tags": []
          }
        }
      ]
    },
    {
      "cell_type": "code",
      "metadata": {
        "id": "l31NIPBI0Bmd",
        "colab_type": "code",
        "colab": {
          "base_uri": "https://localhost:8080/",
          "height": 57
        },
        "outputId": "967cae5c-3d06-40e1-b5fa-4cfed79371d9"
      },
      "source": [
        "env.reset()\n",
        "scrn=env.get_state()\n",
        "cv2_imshow(scrn)"
      ],
      "execution_count": null,
      "outputs": [
        {
          "output_type": "display_data",
          "data": {
            "image/png": "[encoded data removed]",
            "text/plain": [
              "<PIL.Image.Image image mode=L size=90x40 at 0x7FC2DD95B3C8>"
            ]
          },
          "metadata": {
            "tags": []
          }
        }
      ]
    },
    {
      "cell_type": "code",
      "metadata": {
        "id": "L4WusJfhAawr",
        "colab_type": "code",
        "colab": {
          "base_uri": "https://localhost:8080/",
          "height": 57
        },
        "outputId": "84becd48-044c-4383-df9d-07d8f6f99bf3"
      },
      "source": [
        "env.reset()\n",
        "for i in range(3):\n",
        "  env.take_action(1)\n",
        "scrn=env.get_state()\n",
        "cv2_imshow(scrn)"
      ],
      "execution_count": null,
      "outputs": [
        {
          "output_type": "display_data",
          "data": {
            "image/png": "[encoded data removed]",
            "text/plain": [
              "<PIL.Image.Image image mode=L size=90x40 at 0x7FC2D49C0470>"
            ]
          },
          "metadata": {
            "tags": []
          }
        }
      ]
    },
    {
      "cell_type": "markdown",
      "metadata": {
        "id": "pZWtA-NwcL7X",
        "colab_type": "text"
      },
      "source": [
        "Helper functions"
      ]
    },
    {
      "cell_type": "code",
      "metadata": {
        "id": "iIsn7ItjcQwS",
        "colab_type": "code",
        "colab": {}
      },
      "source": [
        "def extract(samples):\n",
        "  l=[[],[],[],[]]\n",
        "  for i in samples:\n",
        "    l[0].append(i[0])\n",
        "    l[1].append(i[1])\n",
        "    l[2].append(i[2])\n",
        "    l[3].append(i[3])\n",
        "  return (l[0],l[1],l[2],l[3])"
      ],
      "execution_count": null,
      "outputs": []
    },
    {
      "cell_type": "code",
      "metadata": {
        "id": "5lsDa6KJdp-7",
        "colab_type": "code",
        "colab": {
          "base_uri": "https://localhost:8080/",
          "height": 34
        },
        "outputId": "76abd238-3263-4293-98d2-10ddc7aba116"
      },
      "source": [
        "samples=[Experience(1,1,1,1),Experience(2,2,2,2),Experience(3,3,3,3),Experience(4,4,4,4)]\n",
        "list=extract(samples)\n",
        "print(list)"
      ],
      "execution_count": null,
      "outputs": [
        {
          "output_type": "stream",
          "text": [
            "([1, 2, 3, 4], [1, 2, 3, 4], [1, 2, 3, 4], [1, 2, 3, 4])\n"
          ],
          "name": "stdout"
        }
      ]
    },
    {
      "cell_type": "markdown",
      "metadata": {
        "id": "DwNtarJwAVTY",
        "colab_type": "text"
      },
      "source": [
        "Hyperparameters"
      ]
    },
    {
      "cell_type": "code",
      "metadata": {
        "id": "phMYnMHqByag",
        "colab_type": "code",
        "colab": {}
      },
      "source": [
        "learning_rate=0.999\n",
        "batch_size=256\n",
        "eps_max=1\n",
        "eps_min=0.01\n",
        "eps_decay=0.001\n",
        "update_targetDQN_iter=10\n",
        "rm_capacity=100000\n",
        "adam_lr=0.001\n",
        "num_episodes=1000\n",
        "input_shape=(40,90)\n",
        "\n",
        "n_actions=CartPoleEnv().n_available_actions()\n",
        "#print(n_actions)"
      ],
      "execution_count": null,
      "outputs": []
    },
    {
      "cell_type": "markdown",
      "metadata": {
        "id": "Lh0vR1mhFEo6",
        "colab_type": "text"
      },
      "source": [
        "Initializing objects"
      ]
    },
    {
      "cell_type": "code",
      "metadata": {
        "id": "S2Y32mP_Aq_p",
        "colab_type": "code",
        "colab": {
          "base_uri": "https://localhost:8080/",
          "height": 370
        },
        "outputId": "fec7193b-590d-44fd-f702-2ae262f6b3f3"
      },
      "source": [
        "env=CartPoleEnv()\n",
        "trainDQN=DQN()\n",
        "targetDQN=DQN()\n",
        "\n",
        "rm=ReplayMemory(rm_capacity)\n",
        "agent=Agent(n_actions,trainDQN,targetDQN,rm,batch_size,input_shape,eps_min,eps_max,eps_decay,learning_rate,adam_lr)\n",
        "agent.update_targetDQN()"
      ],
      "execution_count": null,
      "outputs": [
        {
          "output_type": "error",
          "ename": "ValueError",
          "evalue": "ignored",
          "traceback": [
            "\u001b[0;31m---------------------------------------------------------------------------\u001b[0m",
            "\u001b[0;31mValueError\u001b[0m                                Traceback (most recent call last)",
            "\u001b[0;32m<ipython-input-121-c24663c09bfc>\u001b[0m in \u001b[0;36m<module>\u001b[0;34m()\u001b[0m\n\u001b[1;32m      1\u001b[0m \u001b[0menv\u001b[0m\u001b[0;34m=\u001b[0m\u001b[0mCartPoleEnv\u001b[0m\u001b[0;34m(\u001b[0m\u001b[0;34m)\u001b[0m\u001b[0;34m\u001b[0m\u001b[0;34m\u001b[0m\u001b[0m\n\u001b[0;32m----> 2\u001b[0;31m \u001b[0mtrainDQN\u001b[0m\u001b[0;34m=\u001b[0m\u001b[0mDQN\u001b[0m\u001b[0;34m(\u001b[0m\u001b[0;34m)\u001b[0m\u001b[0;34m\u001b[0m\u001b[0;34m\u001b[0m\u001b[0m\n\u001b[0m\u001b[1;32m      3\u001b[0m \u001b[0mtargetDQN\u001b[0m\u001b[0;34m=\u001b[0m\u001b[0mDQN\u001b[0m\u001b[0;34m(\u001b[0m\u001b[0;34m)\u001b[0m\u001b[0;34m\u001b[0m\u001b[0;34m\u001b[0m\u001b[0m\n\u001b[1;32m      4\u001b[0m \u001b[0;34m\u001b[0m\u001b[0m\n\u001b[1;32m      5\u001b[0m \u001b[0mrm\u001b[0m\u001b[0;34m=\u001b[0m\u001b[0mReplayMemory\u001b[0m\u001b[0;34m(\u001b[0m\u001b[0mrm_capacity\u001b[0m\u001b[0;34m)\u001b[0m\u001b[0;34m\u001b[0m\u001b[0;34m\u001b[0m\u001b[0m\n",
            "\u001b[0;32m/usr/local/lib/python3.6/dist-packages/tensorflow/python/keras/engine/base_layer.py\u001b[0m in \u001b[0;36m__call__\u001b[0;34m(self, *args, **kwargs)\u001b[0m\n\u001b[1;32m    914\u001b[0m     \u001b[0;31m#   not to any other argument.\u001b[0m\u001b[0;34m\u001b[0m\u001b[0;34m\u001b[0m\u001b[0;34m\u001b[0m\u001b[0m\n\u001b[1;32m    915\u001b[0m     \u001b[0;31m# - setting the SavedModel saving spec.\u001b[0m\u001b[0;34m\u001b[0m\u001b[0;34m\u001b[0m\u001b[0;34m\u001b[0m\u001b[0m\n\u001b[0;32m--> 916\u001b[0;31m     \u001b[0minputs\u001b[0m\u001b[0;34m,\u001b[0m \u001b[0margs\u001b[0m\u001b[0;34m,\u001b[0m \u001b[0mkwargs\u001b[0m \u001b[0;34m=\u001b[0m \u001b[0mself\u001b[0m\u001b[0;34m.\u001b[0m\u001b[0m_split_out_first_arg\u001b[0m\u001b[0;34m(\u001b[0m\u001b[0margs\u001b[0m\u001b[0;34m,\u001b[0m \u001b[0mkwargs\u001b[0m\u001b[0;34m)\u001b[0m\u001b[0;34m\u001b[0m\u001b[0;34m\u001b[0m\u001b[0m\n\u001b[0m\u001b[1;32m    917\u001b[0m     \u001b[0minput_list\u001b[0m \u001b[0;34m=\u001b[0m \u001b[0mnest\u001b[0m\u001b[0;34m.\u001b[0m\u001b[0mflatten\u001b[0m\u001b[0;34m(\u001b[0m\u001b[0minputs\u001b[0m\u001b[0;34m)\u001b[0m\u001b[0;34m\u001b[0m\u001b[0;34m\u001b[0m\u001b[0m\n\u001b[1;32m    918\u001b[0m \u001b[0;34m\u001b[0m\u001b[0m\n",
            "\u001b[0;32m/usr/local/lib/python3.6/dist-packages/tensorflow/python/keras/engine/base_layer.py\u001b[0m in \u001b[0;36m_split_out_first_arg\u001b[0;34m(self, args, kwargs)\u001b[0m\n\u001b[1;32m   2978\u001b[0m     \u001b[0;32melse\u001b[0m\u001b[0;34m:\u001b[0m\u001b[0;34m\u001b[0m\u001b[0;34m\u001b[0m\u001b[0m\n\u001b[1;32m   2979\u001b[0m       raise ValueError(\n\u001b[0;32m-> 2980\u001b[0;31m           'The first argument to `Layer.call` must always be passed.')\n\u001b[0m\u001b[1;32m   2981\u001b[0m     \u001b[0;32mreturn\u001b[0m \u001b[0minputs\u001b[0m\u001b[0;34m,\u001b[0m \u001b[0margs\u001b[0m\u001b[0;34m,\u001b[0m \u001b[0mkwargs\u001b[0m\u001b[0;34m\u001b[0m\u001b[0;34m\u001b[0m\u001b[0m\n\u001b[1;32m   2982\u001b[0m \u001b[0;34m\u001b[0m\u001b[0m\n",
            "\u001b[0;31mValueError\u001b[0m: The first argument to `Layer.call` must always be passed."
          ]
        }
      ]
    },
    {
      "cell_type": "markdown",
      "metadata": {
        "id": "m04cMp_4_xju",
        "colab_type": "text"
      },
      "source": [
        "Main Training Loop"
      ]
    },
    {
      "cell_type": "code",
      "metadata": {
        "id": "gF-iQ0OkBey1",
        "colab_type": "code",
        "colab": {}
      },
      "source": [
        "episode_durations=[]\n",
        "for episode in range(num_episodes):\n",
        "  env.reset()\n",
        "  state=env.get_state()\n",
        "  agent.step=0\n",
        "  while env.done==False:\n",
        "    a=agent.select_action(state)\n",
        "    reward= env.take_action(a)\n",
        "    next=env.get_state()\n",
        "    rm.add_experience(Experience(state,a,next,reward))\n",
        "    state=next\n",
        "    sample=rm.get_sample(batch_size)\n",
        "    if len(sample)!=0:\n",
        "      states,actions,next_states,rewards=extract(sample)\n",
        "      for s,a,ns,r in extract(sample):\n",
        "        q_next=agent.targetDQN.predict(ns)\n",
        "        q_target=r+ learning_rate*q_next\n",
        "        agent.trainDQN(s,q_target)\n",
        "    agent.step+=1\n",
        "    if env.done:\n",
        "      episode_durations.append(agent.step)\n",
        "\n",
        "  if episode%update_targetDQN_iter==0:\n",
        "    agent.update_targetDQN()\n",
        "\n",
        "#env.close()"
      ],
      "execution_count": null,
      "outputs": []
    },
    {
      "cell_type": "code",
      "metadata": {
        "id": "rSmSx7xqfuZ4",
        "colab_type": "code",
        "colab": {
          "base_uri": "https://localhost:8080/",
          "height": 34
        },
        "outputId": "20ca4864-7d92-41c3-b12d-9f4632c10e39"
      },
      "source": [
        "print(episode_durations)"
      ],
      "execution_count": null,
      "outputs": [
        {
          "output_type": "stream",
          "text": [
            "[16]\n"
          ],
          "name": "stdout"
        }
      ]
    },
    {
      "cell_type": "code",
      "metadata": {
        "id": "AVAnh30yGURg",
        "colab_type": "code",
        "colab": {}
      },
      "source": [
        ""
      ],
      "execution_count": null,
      "outputs": []
    }
  ]
}